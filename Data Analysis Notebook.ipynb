{
 "cells": [
  {
   "cell_type": "code",
   "execution_count": null,
   "metadata": {},
   "outputs": [],
   "source": [
    "import glob\n",
    "import subprocess\n",
    "import os\n",
    "from astropy.io import fits\n",
    "import numpy as np\n",
    "import matplotlib.pyplot as plt\n",
    "\n",
    "data_dir = \"/Users/hunterholland/Documents/Research/Laidlaw/Data\""
   ]
  },
  {
   "cell_type": "markdown",
   "metadata": {},
   "source": [
    "#### Denoting Sample Files"
   ]
  },
  {
   "cell_type": "code",
   "execution_count": null,
   "metadata": {},
   "outputs": [],
   "source": [
    "spitzer_sample = None\n",
    "chandra_sample = f\"{data_dir}/L1521E/Chandra/primary/acisf07419N002_evt2.fits\"\n",
    "xmm_sample = f\"{data_dir}/L1251BE/XMM/PPS/P0201540101PNS003PIEVLI0000.FTZ\"\n",
    "rosat_sample = None\n",
    "swift_sample = None"
   ]
  },
  {
   "cell_type": "markdown",
   "metadata": {},
   "source": [
    "#### Listing Instrument Event Files"
   ]
  },
  {
   "cell_type": "code",
   "execution_count": null,
   "metadata": {},
   "outputs": [],
   "source": [
    "# Spitzer\n",
    "\n",
    "\n",
    "# Chandra\n",
    "evt2 = glob.glob(f\"{data_dir}/**/Chandra/**/*evt2.fits\", recursive=True)\n",
    "\n",
    "# XMM\n",
    "mos_1 = glob.glob(f\"{data_dir}/**/XMM/PPS/*M1*MIEVLI*.FTZ\", recursive=True)\n",
    "mos_2 = glob.glob(f\"{data_dir}/**/XMM/PPS/*M2*MIEVLI*.FTZ\", recursive=True)\n",
    "pn = glob.glob(f\"{data_dir}/**/XMM/PPS/*PN*PIEVLI*.FTZ\", recursive=True)\n",
    "\n",
    "# Rosat\n",
    "\n",
    "\n",
    "# Swift\n"
   ]
  },
  {
   "cell_type": "markdown",
   "metadata": {},
   "source": [
    "#### Notes for Data Filtering (XMM (and others?))"
   ]
  },
  {
   "cell_type": "markdown",
   "metadata": {},
   "source": [
    "Images may have all sorts of defects: in one example, the edges of all 12 individual detector chips light up and there are all sorts of funny 'streaks' and splotches. All of these are either electronic noise generated signals that masquerade as photons, or cosmic rays (high energy charged particles that pervade all of space, they fly through the detector and create ionization, some fraction of which shows up as fake photons). One (we) can eventually get rid of a lot of that stuff,_if we want to, by a series of 'culls' on the list of photons (we leave out the very lowest photon energies many electronic noise events show up as very low photon energy fake photons, likewise the highest photon energies (a lot of cosmic rays show up as high energy fake photons);we can look at a time-series of the total count rate in the detectors and eliminate time intervals with increased 'background flaring', etc.)._"
   ]
  },
  {
   "cell_type": "markdown",
   "metadata": {},
   "source": [
    "#### Making Energy Histograms (Chandra)"
   ]
  },
  {
   "cell_type": "code",
   "execution_count": null,
   "metadata": {},
   "outputs": [],
   "source": [
    "from chandra_functions import make_hist\n",
    "\n",
    "obj_name = \"L1521E\"\n",
    "filepath = chandra_sample\n",
    "min_e = 5000\n",
    "max_e = 6000\n",
    "nbins = 75\n",
    "\n",
    "make_hist(obj_name, filepath, min_e, max_e, nbins)\n",
    "\n",
    "# Bulk Histogram Output (unfinished)\n",
    "# for file in evt2:\n",
    "#     make_hist(file, min_e, min_e, i=i)\n",
    "#     i += 1"
   ]
  },
  {
   "cell_type": "markdown",
   "metadata": {},
   "source": [
    "#### Making Energy Histograms (XMM-Newton)"
   ]
  },
  {
   "cell_type": "code",
   "execution_count": null,
   "metadata": {},
   "outputs": [],
   "source": [
    "# Energy Bands:\n",
    "# 1: 0.2-0.5 keV; 2: 0.5-2 keV; 3: 2-4.5 keV; 4: 4.5-7.5 keV; 5: 7.5-12 keV; 8: 0.2-12 keV\n",
    "obj_name = \"L1251B&E\"\n",
    "filepath = xmm_sample\n",
    "min_e = 6000\n",
    "max_e = 10000          \n",
    "nbins = 75"
   ]
  },
  {
   "cell_type": "code",
   "execution_count": null,
   "metadata": {},
   "outputs": [],
   "source": [
    "\n",
    "evt_data = hdu_list[1].data\n",
    "energy = evt_data[\"PI\"]\n",
    "print(energy)"
   ]
  },
  {
   "cell_type": "code",
   "execution_count": null,
   "metadata": {},
   "outputs": [],
   "source": []
  }
 ],
 "metadata": {
  "language_info": {
   "codemirror_mode": {
    "name": "ipython",
    "version": 3
   },
   "file_extension": ".py",
   "mimetype": "text/x-python",
   "name": "python",
   "nbconvert_exporter": "python",
   "pygments_lexer": "ipython3",
   "version": "3.7.6-final"
  },
  "orig_nbformat": 2,
  "kernelspec": {
   "name": "python3",
   "display_name": "Python 3"
  }
 },
 "nbformat": 4,
 "nbformat_minor": 2
}