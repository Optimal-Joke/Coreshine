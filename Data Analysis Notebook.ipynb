{
 "cells": [
  {
   "cell_type": "code",
   "execution_count": 1,
   "metadata": {},
   "outputs": [],
   "source": [
    "import glob\n",
    "from astropy.io import fits\n",
    "import numpy as np\n",
    "import matplotlib.pyplot as plt\n",
    "\n",
    "data_dir = \"/Users/hunterholland/Documents/Research/Laidlaw/Data\""
   ]
  },
  {
   "cell_type": "markdown",
   "metadata": {},
   "source": [
    "#### Denoting Sample Files"
   ]
  },
  {
   "cell_type": "code",
   "execution_count": 2,
   "metadata": {},
   "outputs": [],
   "source": [
    "spitzer_sample = None\n",
    "chandra_sample = f\"{data_dir}/L1521E/Chandra/primary/acisf07419N002_evt2.fits\"\n",
    "xmm_sample = f\"{data_dir}/L1251B&E/XMM/PPS/P0201540101M1S001MIEVLI0000.FTZ\"\n",
    "rosat_sample = None\n",
    "swift_sample = None"
   ]
  },
  {
   "cell_type": "markdown",
   "metadata": {},
   "source": [
    "#### Listing Instrument Event Files"
   ]
  },
  {
   "cell_type": "code",
   "execution_count": 3,
   "metadata": {},
   "outputs": [],
   "source": [
    "# Spitzer\n",
    "\n",
    "\n",
    "# Chandra\n",
    "evt2 = glob.glob(f\"{data_dir}/**/Chandra/**/*evt2.fits\", recursive=True)\n",
    "\n",
    "# XMM\n",
    "mos_1 = glob.glob(f\"{data_dir}/**/XMM/PPS/*M1*MIEVLI*.FTZ\", recursive=True)\n",
    "mos_2 = glob.glob(f\"{data_dir}/**/XMM/PPS/*M2*MIEVLI*.FTZ\", recursive=True)\n",
    "pn = glob.glob(f\"{data_dir}/**/XMM/PPS/*PN*PIEVLI*.FTZ\", recursive=True)\n",
    "\n",
    "# Rosat\n",
    "\n",
    "\n",
    "# Swift\n"
   ]
  },
  {
   "cell_type": "markdown",
   "metadata": {},
   "source": [
    "#### Making Energy Histograms (Chandra)"
   ]
  },
  {
   "cell_type": "code",
   "execution_count": 4,
   "metadata": {},
   "outputs": [],
   "source": [
    "from chandra_functions import make_hist\n",
    "\n",
    "obj_name = \"L1521E\"\n",
    "filepath = chandra_sample\n",
    "min_e = 6000\n",
    "max_e = 10000\n",
    "nbins = 75\n",
    "\n",
    "make_hist(obj_name, filepath, min_e, max_e, nbins)\n",
    "\n",
    "# Bulk Histogram Output (unfinished)\n",
    "# for file in evt2:\n",
    "#     make_hist(file, min_e, min_e, i=i)\n",
    "#     i += 1"
   ]
  },
  {
   "cell_type": "code",
   "execution_count": null,
   "metadata": {},
   "outputs": [],
   "source": []
  }
 ],
 "metadata": {
  "language_info": {
   "codemirror_mode": {
    "name": "ipython",
    "version": 3
   },
   "file_extension": ".py",
   "mimetype": "text/x-python",
   "name": "python",
   "nbconvert_exporter": "python",
   "pygments_lexer": "ipython3",
   "version": "3.7.6-final"
  },
  "orig_nbformat": 2,
  "kernelspec": {
   "name": "python3",
   "display_name": "Python 3"
  }
 },
 "nbformat": 4,
 "nbformat_minor": 2
}