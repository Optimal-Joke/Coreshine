{
 "cells": [
  {
   "cell_type": "code",
   "execution_count": 1,
   "metadata": {},
   "outputs": [],
   "source": [
    "import glob\n",
    "from astropy.io import fits\n",
    "import numpy as np\n",
    "import matplotlib.pyplot as plt\n",
    "\n",
    "data_dir = \"/Users/hunterholland/Documents/Research/Laidlaw/Data\""
   ]
  },
  {
   "cell_type": "markdown",
   "metadata": {},
   "source": [
    "#### Denoting Sample Files"
   ]
  },
  {
   "cell_type": "code",
   "execution_count": 15,
   "metadata": {},
   "outputs": [],
   "source": [
    "spitzer_sample = None\n",
    "chandra_sample = f\"{data_dir}/L1521E/Chandra/primary/acisf07419N002_evt2.fits\"\n",
    "xmm_sample = f\"{data_dir}/L1251B&E/XMM/PPS/P0201540101PNS003EXPMAP8000.FTZ\"\n",
    "rosat_sample = None\n",
    "swift_sample = None"
   ]
  },
  {
   "cell_type": "markdown",
   "metadata": {},
   "source": [
    "#### Listing Instrument Event Files"
   ]
  },
  {
   "cell_type": "code",
   "execution_count": 14,
   "metadata": {},
   "outputs": [
    {
     "output_type": "stream",
     "name": "stdout",
     "text": "['/Users/hunterholland/Documents/Research/Laidlaw/Data/L1251B&E/XMM/PPS/P0201540101PNS003EXPMAP8000.FTZ', '/Users/hunterholland/Documents/Research/Laidlaw/Data/B335/XMM/PPS/P0089940901PNS003EXPMAP8000.FTZ', '/Users/hunterholland/Documents/Research/Laidlaw/Data/L1262/XMM/PPS/P0650910301PNS003EXPMAP8000.FTZ', '/Users/hunterholland/Documents/Research/Laidlaw/Data/B59/XMM/PPS/P0206610101PNS003EXPMAP8000.FTZ', '/Users/hunterholland/Documents/Research/Laidlaw/Data/L1448/XMM/PPS/P0089940201PNS003EXPMAP8000.FTZ']\n"
    }
   ],
   "source": [
    "# Spitzer\n",
    "\n",
    "\n",
    "# Chandra\n",
    "evt2 = glob.glob(f\"{data_dir}/**/Chandra/**/*evt2.fits\", recursive=True)\n",
    "\n",
    "# XMM\n",
    "mos_1 = glob.glob(f\"{data_dir}/**/XMM/PPS/*M1*EXPMAP8*.FTZ\", recursive=True)\n",
    "mos_2 = glob.glob(f\"{data_dir}/**/XMM/PPS/*M2*EXPMAP8*.FTZ\", recursive=True)\n",
    "pn = glob.glob(f\"{data_dir}/**/XMM/PPS/*PN*EXPMAP8*.FTZ\", recursive=True)\n",
    "\n",
    "# Rosat\n",
    "\n",
    "\n",
    "# Swift\n"
   ]
  },
  {
   "cell_type": "markdown",
   "metadata": {},
   "source": [
    "#### Making Energy Histograms (Chandra)"
   ]
  },
  {
   "cell_type": "code",
   "execution_count": 4,
   "metadata": {},
   "outputs": [],
   "source": [
    "from chandra_functions import make_hist\n",
    "\n",
    "obj_name = \"L1521E\"\n",
    "filepath = chandra_sample\n",
    "min_e = 6000\n",
    "max_e = 10000\n",
    "nbins = 75\n",
    "\n",
    "make_hist(obj_name, filepath, min_e, max_e, nbins)\n",
    "\n",
    "# Bulk Histogram Output (unfinished)\n",
    "# for file in evt2:\n",
    "#     make_hist(file, min_e, min_e, i=i)\n",
    "#     i += 1"
   ]
  },
  {
   "cell_type": "markdown",
   "metadata": {},
   "source": [
    "#### Making Energy Histograms (XMM-Newton)"
   ]
  },
  {
   "cell_type": "code",
   "execution_count": 21,
   "metadata": {},
   "outputs": [
    {
     "output_type": "stream",
     "name": "stdout",
     "text": "Filename: /Users/hunterholland/Documents/Research/Laidlaw/Data/L1251B&E/XMM/PPS/P0201540101PNS003EXPMAP8000.FTZ\nNo.    Name      Ver    Type      Cards   Dimensions   Format\n  0  PRIMARY       1 PrimaryHDU     447   (648, 648)   float32   \n[[0. 0. 0. ... 0. 0. 0.]\n [0. 0. 0. ... 0. 0. 0.]\n [0. 0. 0. ... 0. 0. 0.]\n ...\n [0. 0. 0. ... 0. 0. 0.]\n [0. 0. 0. ... 0. 0. 0.]\n [0. 0. 0. ... 0. 0. 0.]]\n"
    }
   ],
   "source": [
    "# Energy Bands:\n",
    "# 1: 0.2-0.5 keV; 2: 0.5-2 keV; 3: 2-4.5 keV; 4: 4.5-7.5 keV; 5: 7.5-12 keV; 8: 0.2-12 keV\n",
    "obj_name = \"L1251B&E\"\n",
    "filepath = xmm_sample\n",
    "min_e = 6000\n",
    "max_e = 10000\n",
    "nbins = 75\n",
    "\n",
    "hdu_list = fits.open(filepath, memmap=True)\n",
    "hdu_list.info()\n",
    "evt_data = hdu_list[0].data\n",
    "print(evt_data)\n",
    "# energy = evt_data[\"energy\"]\n",
    "# min_thresh = evt_data[\"energy\"] >= min_e\n",
    "# max_thresh = evt_data[\"energy\"] < max_e\n",
    "# e_band = energy[min_thresh & max_thresh]"
   ]
  },
  {
   "cell_type": "code",
   "execution_count": null,
   "metadata": {},
   "outputs": [],
   "source": []
  }
 ],
 "metadata": {
  "language_info": {
   "codemirror_mode": {
    "name": "ipython",
    "version": 3
   },
   "file_extension": ".py",
   "mimetype": "text/x-python",
   "name": "python",
   "nbconvert_exporter": "python",
   "pygments_lexer": "ipython3",
   "version": "3.7.6-final"
  },
  "orig_nbformat": 2,
  "kernelspec": {
   "name": "python3",
   "display_name": "Python 3"
  }
 },
 "nbformat": 4,
 "nbformat_minor": 2
}