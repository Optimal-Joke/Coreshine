{
 "cells": [
  {
   "cell_type": "code",
   "execution_count": null,
   "metadata": {},
   "outputs": [],
   "source": [
    "import glob\n",
    "import subprocess\n",
    "import os\n",
    "from astropy.io import fits\n",
    "import numpy as np\n",
    "import matplotlib.pyplot as plt\n",
    "\n",
    "original_dir = \"/Users/hunterholland/Documents/Research/Laidlaw/Original Data\"\n",
    "data_dir = \"/Users/hunterholland/Documents/Research/Laidlaw/Modified Data\""
   ]
  },
  {
   "cell_type": "markdown",
   "metadata": {},
   "source": [
    "## Original Files"
   ]
  },
  {
   "cell_type": "code",
   "execution_count": null,
   "metadata": {},
   "outputs": [],
   "source": [
    "spitzer_sample_org = None\n",
    "chandra_sample_org = f\"{original_dir}/L1521E/Chandra/primary/acisf07419N002_evt2.fits\"\n",
    "xmm_sample_org = f\"{original_dir}/L1251BE/XMM/PPS/P0201540101PNS003PIEVLI0000.FTZ\"\n",
    "rosat_sample_org = f\"{original_dir}/L1517/ROSAT/rp201278a01_bas.fits\"\n",
    "swift_sample_org = f\"{original_dir}/L1517/Swift/xrt/event/sw00034249004xpcw3po_cl.evt.gz\""
   ]
  },
  {
   "cell_type": "markdown",
   "metadata": {},
   "source": [
    "## Sample Files"
   ]
  },
  {
   "cell_type": "code",
   "execution_count": null,
   "metadata": {},
   "outputs": [],
   "source": [
    "spitzer_sample = None\n",
    "chandra_sample = f\"{data_dir}/L1521E/Chandra/primary/acisf07419N002_evt2.fits\"\n",
    "xmm_sample = f\"{data_dir}/L1251BE/XMM/PPS/P0201540101PNS003PIEVLI0000.FTZ\"\n",
    "rosat_sample = f\"{data_dir}/L1517/ROSAT/rp201278a01_bas.fits\"\n",
    "swift_sample = f\"{data_dir}/L1517/Swift/xrt/event/sw00034249004xpcw3po_cl.evt.gz\""
   ]
  },
  {
   "cell_type": "markdown",
   "metadata": {},
   "source": [
    "# Chandra\n",
    "## Event File Info"
   ]
  },
  {
   "cell_type": "code",
   "execution_count": null,
   "metadata": {},
   "outputs": [],
   "source": [
    "hdu_list = fits.open(chandra_sample)\n",
    "hdu_list.info()"
   ]
  },
  {
   "cell_type": "markdown",
   "metadata": {},
   "source": [
    "## Event Column Names"
   ]
  },
  {
   "cell_type": "code",
   "execution_count": null,
   "metadata": {},
   "outputs": [],
   "source": [
    "evt_table = hdu_list[1]\n",
    "evt_table.columns\n",
    "# energy column name = \"energy\""
   ]
  },
  {
   "cell_type": "markdown",
   "metadata": {},
   "source": [
    "## Messing Around with Data Analysis\n",
    "### Making Figures"
   ]
  },
  {
   "cell_type": "code",
   "execution_count": null,
   "metadata": {},
   "outputs": [],
   "source": [
    "evt_data = fits.getdata(chandra_sample)\n",
    "energy = evt_data[\"energy\"]\n",
    "min_thresh = energy>=400\n",
    "max_thresh = energy<25000\n",
    "e_band = energy[min_thresh & max_thresh]\n",
    "plt.hist(e_band, bins=250)\n",
    "plt.xlabel(\"Energy (eV)\")\n",
    "plt.ylabel(\"Count\")\n",
    "plt.show()"
   ]
  },
  {
   "cell_type": "code",
   "execution_count": null,
   "metadata": {},
   "outputs": [],
   "source": [
    "energy_hist = plt.hist(energy, bins=100)\n",
    "plt.xlabel(\"Energy (eV)\")\n",
    "plt.ylabel(\"Count\")\n",
    "plt.show()"
   ]
  },
  {
   "cell_type": "markdown",
   "metadata": {},
   "source": [
    "### Filtering Files"
   ]
  },
  {
   "cell_type": "code",
   "execution_count": null,
   "metadata": {},
   "outputs": [],
   "source": [
    "with fits.open(chandra_sample, mode='update') as hdu_list:\n",
    "    evt_table = hdu_list[1]\n",
    "    energy_mask = evt_table.data[\"energy\"] > 400\n",
    "    # coord_mask = None\n",
    "    evt_table.data = evt_table.data[energy_mask]\n",
    "    # evt_table.data = evt_table.data[coord_mask]"
   ]
  },
  {
   "cell_type": "markdown",
   "metadata": {},
   "source": [
    "# XMM-Newton\n",
    "## Event File Info"
   ]
  },
  {
   "cell_type": "code",
   "execution_count": null,
   "metadata": {},
   "outputs": [],
   "source": [
    "hdu_list = fits.open(xmm_sample)\n",
    "hdu_list.info()"
   ]
  },
  {
   "cell_type": "markdown",
   "metadata": {},
   "source": [
    "## Event Column Names"
   ]
  },
  {
   "cell_type": "code",
   "execution_count": null,
   "metadata": {},
   "outputs": [],
   "source": [
    "evt_table = hdu_list[1]\n",
    "evt_table.columns"
   ]
  },
  {
   "cell_type": "code",
   "execution_count": null,
   "metadata": {},
   "outputs": [],
   "source": [
    "evt_data = evt_table.data\n",
    "energy = evt_data[\"PI\"] \n",
    "coords = evt_table.data[\"X\"]\n",
    "X, RAWX, DETX\n",
    "max(coords)"
   ]
  },
  {
   "cell_type": "markdown",
   "metadata": {},
   "source": [
    "## Messing Around with Data Analysis\n",
    "### Making Figures"
   ]
  },
  {
   "cell_type": "code",
   "execution_count": null,
   "metadata": {},
   "outputs": [],
   "source": [
    "evt_data = fits.getdata(xmm_sample)\n",
    "energy = evt_data[\"PI\"]\n",
    "min_thresh = energy>=0\n",
    "max_thresh = energy<5000\n",
    "e_band = energy[min_thresh & max_thresh]\n",
    "plt.hist(e_band, bins='auto')\n",
    "plt.xlabel(\"Energy (eV)\")\n",
    "plt.ylabel(\"Count\")\n",
    "plt.show()"
   ]
  },
  {
   "cell_type": "markdown",
   "metadata": {},
   "source": [
    "### Filtering Files in Place"
   ]
  },
  {
   "cell_type": "code",
   "execution_count": null,
   "metadata": {},
   "outputs": [],
   "source": [
    "with fits.open(xmm_sample, mode='update') as hdu_list:\n",
    "    evt_table = hdu_list[1]\n",
    "    energy_mask = evt_table.data[\"PI\"] > 400\n",
    "    # coord_mask = None\n",
    "    evt_table.data = evt_table.data[energy_mask]\n",
    "    # evt_table.data = evt_table.data[coord_mask]\n",
    "    hdu_list.flush()"
   ]
  },
  {
   "cell_type": "markdown",
   "metadata": {},
   "source": [
    "# ROSAT\n",
    "## Event File Info"
   ]
  },
  {
   "cell_type": "code",
   "execution_count": 14,
   "metadata": {},
   "outputs": [
    {
     "output_type": "stream",
     "name": "stdout",
     "text": "Filename: /Users/hunterholland/Documents/Research/Laidlaw/Modified Data/L1517/ROSAT/rp201278a01_bas.fits\nNo.    Name      Ver    Type      Cards   Dimensions   Format\n  0  PRIMARY       1 PrimaryHDU      48   ()      \n  1  STDGTI        1 BinTableHDU     75   5R x 3C   [1D, 1D, 1I]   \n  2  STDEVT        1 BinTableHDU    170   23594R x 8C   [1I, 1I, 1I, 1I, 1D, 1I, 1I, 1I]   \n  3  REJEVT        1 BinTableHDU    160   4105R x 8C   [1I, 1I, 1I, 1I, 1D, 1I, 1I, 1I]   \n  4  TSI           1 BinTableHDU    163   25R x 22C   [1D, 1J, 1J, 1I, 1I, 1I, 1I, 1I, 1I, 1I, 1I, 1I, 1I, 1I, 1I, 1I, 1I, 1I, 1I, 1I, 1I, 1J]   \n  5  STDQLM        1 BinTableHDU    199   2R x 36C   [1J, 1J, 1J, 1I, 1I, 1I, 1I, 1I, 1I, 1I, 1I, 1I, 1I, 1I, 1I, 1I, 1I, 1I, 1I, 1I, 1I, 1I, 1I, 1I, 1I, 1I, 1I, 1I, 1I, 1I, 1I, 1I, 1I, 1I, 1I, 1I]   \n  6  ALLQLM        1 BinTableHDU    196   1R x 36C   [1J, 1J, 1J, 1I, 1I, 1I, 1I, 1I, 1I, 1I, 1I, 1I, 1I, 1I, 1I, 1I, 1I, 1I, 1I, 1I, 1I, 1I, 1I, 1I, 1I, 1I, 1I, 1I, 1I, 1I, 1I, 1I, 1I, 1I, 1I, 1I]   \n"
    }
   ],
   "source": [
    "hdu_list = fits.open(rosat_sample)\n",
    "hdu_list.info()"
   ]
  },
  {
   "cell_type": "markdown",
   "metadata": {},
   "source": [
    "## Event Column Names"
   ]
  },
  {
   "cell_type": "code",
   "execution_count": 20,
   "metadata": {},
   "outputs": [
    {
     "output_type": "execute_result",
     "data": {
      "text/plain": "549"
     },
     "metadata": {},
     "execution_count": 20
    }
   ],
   "source": [
    "evt_table = hdu_list[2]\n",
    "evt_table.columns\n",
    "min(evt_table.data[\"\"])"
   ]
  },
  {
   "cell_type": "markdown",
   "metadata": {},
   "source": [
    "# Swift\n",
    "## Event File Info"
   ]
  },
  {
   "cell_type": "code",
   "execution_count": 21,
   "metadata": {},
   "outputs": [
    {
     "output_type": "stream",
     "name": "stdout",
     "text": "Filename: /Users/hunterholland/Documents/Research/Laidlaw/Modified Data/L1517/Swift/xrt/event/sw00034249004xpcw3po_cl.evt.gz\nNo.    Name      Ver    Type      Cards   Dimensions   Format\n  0  PRIMARY       1 PrimaryHDU     108   ()      \n  1  EVENTS        1 BinTableHDU    489   8228R x 11C   [1D, 1I, 1I, 1I, 1I, 1I, 1I, 1J, 1J, 1I, 16X]   \n  2  GTI           1 BinTableHDU    105   5R x 2C   [1D, 1D]   \n  3  BADPIX        1 BinTableHDU    125   3978R x 6C   [1I, 1I, 1I, 1I, I, 16X]   \n  4  BIASDIFF      1 BinTableHDU    152   112R x 13C   [1D, 1I, 1I, 1I, 1I, 1I, 1I, 1J, 1J, 1J, 1J, 1J, 1J]   \n"
    }
   ],
   "source": [
    "hdu_list = fits.open(swift_sample)\n",
    "hdu_list.info()"
   ]
  },
  {
   "cell_type": "markdown",
   "metadata": {},
   "source": [
    "## Event Column Names"
   ]
  },
  {
   "cell_type": "code",
   "execution_count": 28,
   "metadata": {},
   "outputs": [
    {
     "output_type": "execute_result",
     "data": {
      "text/plain": "ColDefs(\n    name = 'TIME'; format = '1D'; unit = 's'\n    name = 'X'; format = '1I'; unit = 'pixel'; null = -1; coord_type = 'RA---TAN'; coord_unit = 'deg'; coord_ref_point = 500.5; coord_ref_value = 73.81707; coord_inc = -0.0006548089\n    name = 'Y'; format = '1I'; unit = 'pixel'; null = -1; coord_type = 'DEC--TAN'; coord_unit = 'deg'; coord_ref_point = 500.5; coord_ref_value = 30.35704; coord_inc = 0.0006548089\n    name = 'RAWX'; format = '1I'; unit = 'pixel'; coord_type = 'RAWX'; coord_ref_point = 300.5; coord_ref_value = 299.5; coord_inc = 1\n    name = 'RAWY'; format = '1I'; unit = 'pixel'; coord_type = 'RAWY'; coord_ref_point = 300.5; coord_ref_value = 299.5; coord_inc = 1\n    name = 'DETX'; format = '1I'; unit = 'pixel'; coord_type = 'DETX'; coord_unit = 'mm'; coord_ref_point = 300.5; coord_ref_value = 0.0; coord_inc = 0.04\n    name = 'DETY'; format = '1I'; unit = 'pixel'; coord_type = 'DETY'; coord_unit = 'mm'; coord_ref_point = 300.5; coord_ref_value = 0.0; coord_inc = 0.04\n    name = 'PHA'; format = '1J'; unit = 'chan'\n    name = 'PI'; format = '1J'; unit = 'chan'; null = -4095\n    name = 'GRADE'; format = '1I'\n    name = 'STATUS'; format = '16X'\n)"
     },
     "metadata": {},
     "execution_count": 28
    }
   ],
   "source": [
    "evt_table = hdu_list[1]\n",
    "evt_table.columns\n",
    "# max(evt_table.data[\"Y\"])"
   ]
  },
  {
   "cell_type": "code",
   "execution_count": null,
   "metadata": {},
   "outputs": [],
   "source": []
  }
 ],
 "metadata": {
  "language_info": {
   "codemirror_mode": {
    "name": "ipython",
    "version": 3
   },
   "file_extension": ".py",
   "mimetype": "text/x-python",
   "name": "python",
   "nbconvert_exporter": "python",
   "pygments_lexer": "ipython3",
   "version": "3.7.6-final"
  },
  "orig_nbformat": 2,
  "kernelspec": {
   "name": "python3",
   "display_name": "Python 3"
  }
 },
 "nbformat": 4,
 "nbformat_minor": 2
}