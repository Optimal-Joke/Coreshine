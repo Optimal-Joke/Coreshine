{
 "cells": [
  {
   "cell_type": "code",
   "execution_count": 1,
   "metadata": {},
   "outputs": [],
   "source": [
    "import os\n",
    "import shutil\n",
    "\n",
    "data_dir = \"/Users/hunterholland/Documents/Research/Laidlaw/Data\""
   ]
  },
  {
   "cell_type": "markdown",
   "metadata": {},
   "source": [
    "# Batch File Handling\n",
    "### Rename every instance of a folder"
   ]
  },
  {
   "cell_type": "code",
   "execution_count": 10,
   "metadata": {},
   "outputs": [],
   "source": [
    "folder_name = \"ch4\"\n",
    "new_folder_name = \"8.0um\"\n",
    "\n",
    "for directory, subdir, files in os.walk(f\"{data_dir}\"):\n",
    "    if folder_name in os.path.basename(directory):\n",
    "        old_name = directory\n",
    "        new_name = f\"{os.path.dirname(old_name)}/{new_folder_name}\"\n",
    "        os.rename(old_name, new_name)"
   ]
  },
  {
   "cell_type": "markdown",
   "metadata": {},
   "source": [
    "### Consolidate XMM-Newton event files"
   ]
  },
  {
   "cell_type": "code",
   "execution_count": null,
   "metadata": {},
   "outputs": [],
   "source": [
    "parent_dir_basename = \"PPS\"\n",
    "new_folder_name = \"evt\"\n",
    "matched_phrases = [\"MIEVLI\", \"PIEVLI\"]\n",
    "\n",
    "for directory, subdir, files in os.walk(f\"{data_dir}\"):\n",
    "    if parent_dir_basename in os.path.basename(directory):\n",
    "        if not new_folder_name in subdir:\n",
    "            os.mkdir(f\"{directory}/{new_folder_name}\")\n",
    "            for filename in files:\n",
    "                for phrase in matched_phrases:\n",
    "                    if phrase in filename:\n",
    "                        shutil.move(f\"{directory}/{filename}\",\n",
    "                                    f\"{directory}/{new_folder_name}/{filename}\")"
   ]
  },
  {
   "cell_type": "markdown",
   "metadata": {},
   "source": [
    "### Consolidate XMM-Newton image files"
   ]
  },
  {
   "cell_type": "code",
   "execution_count": null,
   "metadata": {},
   "outputs": [],
   "source": [
    "parent_dir_basename = \"PPS\"\n",
    "new_folder_name = \"img\"\n",
    "matched_phrases = [\"IMAGE_\"]\n",
    "\n",
    "for directory, subdir, files in os.walk(f\"{data_dir}\"):\n",
    "    if parent_dir_basename in os.path.basename(directory):\n",
    "        if not new_folder_name in subdir:\n",
    "            os.mkdir(f\"{directory}/{new_folder_name}\")\n",
    "            for filename in files:\n",
    "                for phrase in matched_phrases:\n",
    "                    if phrase in filename:\n",
    "                        shutil.move(f\"{directory}/{filename}\",\n",
    "                                    f\"{directory}/{new_folder_name}/{filename}\")"
   ]
  },
  {
   "cell_type": "markdown",
   "metadata": {},
   "source": [
    "### Organize XMM-Newton image files"
   ]
  },
  {
   "cell_type": "code",
   "execution_count": null,
   "metadata": {},
   "outputs": [],
   "source": [
    "parent_dir_basename = \"img\"\n",
    "folders_phrases = {\"MOS1\": \"M1S001\", \"MOS2\": \"M2S002\", \"OM\": \"OMS\",\n",
    "                   \"PN\": \"PNS003\", \"R1\": \"R1\", \"R2\": \"R2\"}\n",
    "\n",
    "for directory, subdir, files in os.walk(f\"{data_dir}\"):\n",
    "    if parent_dir_basename in os.path.basename(directory):\n",
    "        for folder_name, match_phrase in folders_phrases.items():\n",
    "            if not folder_name in subdir:\n",
    "                os.mkdir(f\"{directory}/{folder_name}\")\n",
    "                for filename in files:\n",
    "                    if match_phrase in filename:\n",
    "                        shutil.move(f\"{directory}/{filename}\",\n",
    "                                    f\"{directory}/{folder_name}/{filename}\")"
   ]
  }
 ],
 "metadata": {
  "language_info": {
   "codemirror_mode": {
    "name": "ipython",
    "version": 3
   },
   "file_extension": ".py",
   "mimetype": "text/x-python",
   "name": "python",
   "nbconvert_exporter": "python",
   "pygments_lexer": "ipython3",
   "version": "3.7.6-final"
  },
  "orig_nbformat": 2,
  "kernelspec": {
   "name": "python3",
   "display_name": "Python 3"
  }
 },
 "nbformat": 4,
 "nbformat_minor": 2
}