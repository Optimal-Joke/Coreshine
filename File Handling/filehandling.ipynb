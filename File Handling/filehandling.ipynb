{
 "cells": [
  {
   "cell_type": "code",
   "execution_count": 1,
   "metadata": {},
   "outputs": [],
   "source": [
    "import os\n",
    "import shutil\n",
    "\n",
    "data_dir = \"/Users/hunterholland/Documents/Research/Laidlaw/Data\""
   ]
  },
  {
   "cell_type": "markdown",
   "metadata": {},
   "source": [
    "# Batch File Handling\n",
    "### Rename every instance of a folder"
   ]
  },
  {
   "cell_type": "code",
   "execution_count": 2,
   "metadata": {},
   "outputs": [],
   "source": [
    "folder_name = \"ch4\"\n",
    "new_folder_name = \"8.0um\"\n",
    "\n",
    "for directory, subdir, files in os.walk(f\"{data_dir}\"):\n",
    "    if folder_name in os.path.basename(directory):\n",
    "        old_name = directory\n",
    "        new_name = f\"{os.path.dirname(old_name)}/{new_folder_name}\"\n",
    "        os.rename(old_name, new_name)"
   ]
  },
  {
   "cell_type": "markdown",
   "metadata": {},
   "source": [
    "### Delete every instance of a file"
   ]
  },
  {
   "cell_type": "code",
   "execution_count": 2,
   "metadata": {},
   "outputs": [],
   "source": [
    "matched_term = \"PN_PIEVLI\"\n",
    "\n",
    "for directory, subdir, files in os.walk(f\"{data_dir}\"):\n",
    "    if \"evt\" in directory:\n",
    "        for file in files:\n",
    "            if matched_term in file:\n",
    "                filepath = os.path.join(directory, file)\n",
    "                os.remove(filepath)"
   ]
  },
  {
   "cell_type": "markdown",
   "metadata": {},
   "source": [
    "### Consolidate XMM-Newton event files"
   ]
  },
  {
   "cell_type": "code",
   "execution_count": null,
   "metadata": {},
   "outputs": [],
   "source": [
    "parent_dir_basename = \"PPS\"\n",
    "new_folder_name = \"evt\"\n",
    "matched_phrases = [\"MIEVLI\", \"PIEVLI\"]\n",
    "\n",
    "for directory, subdir, files in os.walk(f\"{data_dir}\"):\n",
    "    if parent_dir_basename in os.path.basename(directory):\n",
    "        if not new_folder_name in subdir:\n",
    "            os.mkdir(f\"{directory}/{new_folder_name}\")\n",
    "            for filename in files:\n",
    "                for phrase in matched_phrases:\n",
    "                    if phrase in filename:\n",
    "                        shutil.move(f\"{directory}/{filename}\",\n",
    "                                    f\"{directory}/{new_folder_name}/{filename}\")"
   ]
  },
  {
   "cell_type": "markdown",
   "metadata": {},
   "source": [
    "### Consolidate XMM-Newton image files"
   ]
  },
  {
   "cell_type": "code",
   "execution_count": null,
   "metadata": {},
   "outputs": [],
   "source": [
    "parent_dir_basename = \"PPS\"\n",
    "new_folder_name = \"img\"\n",
    "matched_phrases = [\"IMAGE_\"]\n",
    "\n",
    "for directory, subdir, files in os.walk(f\"{data_dir}\"):\n",
    "    if parent_dir_basename in os.path.basename(directory):\n",
    "        if not new_folder_name in subdir:\n",
    "            os.mkdir(f\"{directory}/{new_folder_name}\")\n",
    "            for filename in files:\n",
    "                for phrase in matched_phrases:\n",
    "                    if phrase in filename:\n",
    "                        shutil.move(f\"{directory}/{filename}\",\n",
    "                                    f\"{directory}/{new_folder_name}/{filename}\")"
   ]
  },
  {
   "cell_type": "markdown",
   "metadata": {},
   "source": [
    "### Organize XMM-Newton image files"
   ]
  },
  {
   "cell_type": "code",
   "execution_count": null,
   "metadata": {},
   "outputs": [],
   "source": [
    "parent_dir_basename = \"img\"\n",
    "folders_phrases = {\"MOS1\": \"M1S001\", \"MOS2\": \"M2S002\", \"OM\": \"OMS\",\n",
    "                   \"PN\": \"PNS003\", \"R1\": \"R1\", \"R2\": \"R2\"}\n",
    "\n",
    "for directory, subdir, files in os.walk(f\"{data_dir}\"):\n",
    "    if parent_dir_basename in os.path.basename(directory):\n",
    "        for folder_name, match_phrase in folders_phrases.items():\n",
    "            if not folder_name in subdir:\n",
    "                os.mkdir(f\"{directory}/{folder_name}\")\n",
    "                for filename in files:\n",
    "                    if match_phrase in filename:\n",
    "                        shutil.move(f\"{directory}/{filename}\",\n",
    "                                    f\"{directory}/{folder_name}/{filename}\")"
   ]
  },
  {
   "cell_type": "markdown",
   "metadata": {},
   "source": [
    "### Consolidate Spitzer mosaic files"
   ]
  },
  {
   "cell_type": "code",
   "execution_count": 3,
   "metadata": {},
   "outputs": [
    {
     "output_type": "stream",
     "name": "stdout",
     "text": "/Users/hunterholland/Documents/Research/Laidlaw/Data/Original/L1521E/Spitzer/8.0um/pbcd/SPITZER_I4_14609920_0000_4_E8592928_maic.fits moved to /Users/hunterholland/Documents/Research/Laidlaw/Data/Original/L1521E/Spitzer/8.0um/pbcd/Mosaics/SPITZER_I4_14609920_0000_4_E8592928_maic.fits\n/Users/hunterholland/Documents/Research/Laidlaw/Data/Original/L1521E/Spitzer/4.5um/pbcd/SPITZER_I2_14609920_0000_4_E8592938_maic.fits moved to /Users/hunterholland/Documents/Research/Laidlaw/Data/Original/L1521E/Spitzer/4.5um/pbcd/Mosaics/SPITZER_I2_14609920_0000_4_E8592938_maic.fits\n/Users/hunterholland/Documents/Research/Laidlaw/Data/Original/L1521E/Spitzer/3.6um/pbcd/SPITZER_I1_14609920_0000_4_E8593050_maic.fits moved to /Users/hunterholland/Documents/Research/Laidlaw/Data/Original/L1521E/Spitzer/3.6um/pbcd/Mosaics/SPITZER_I1_14609920_0000_4_E8593050_maic.fits\n/Users/hunterholland/Documents/Research/Laidlaw/Data/Original/L1521E/Spitzer/5.8um/pbcd/SPITZER_I3_14609920_0000_4_E8593079_maic.fits moved to /Users/hunterholland/Documents/Research/Laidlaw/Data/Original/L1521E/Spitzer/5.8um/pbcd/Mosaics/SPITZER_I3_14609920_0000_4_E8593079_maic.fits\n/Users/hunterholland/Documents/Research/Laidlaw/Data/Original/B335/Spitzer/8.0um/pbcd/SPITZER_I4_4926208_0000_7_E8758092_maic.fits moved to /Users/hunterholland/Documents/Research/Laidlaw/Data/Original/B335/Spitzer/8.0um/pbcd/Mosaics/SPITZER_I4_4926208_0000_7_E8758092_maic.fits\n/Users/hunterholland/Documents/Research/Laidlaw/Data/Original/B335/Spitzer/4.5um/pbcd/SPITZER_I2_4926208_0000_7_E8758171_maic.fits moved to /Users/hunterholland/Documents/Research/Laidlaw/Data/Original/B335/Spitzer/4.5um/pbcd/Mosaics/SPITZER_I2_4926208_0000_7_E8758171_maic.fits\n/Users/hunterholland/Documents/Research/Laidlaw/Data/Original/B335/Spitzer/3.6um/pbcd/SPITZER_I1_4926208_0000_7_E8758160_maic.fits moved to /Users/hunterholland/Documents/Research/Laidlaw/Data/Original/B335/Spitzer/3.6um/pbcd/Mosaics/SPITZER_I1_4926208_0000_7_E8758160_maic.fits\n/Users/hunterholland/Documents/Research/Laidlaw/Data/Original/B335/Spitzer/5.8um/pbcd/SPITZER_I3_4926208_0000_7_E8758094_maic.fits moved to /Users/hunterholland/Documents/Research/Laidlaw/Data/Original/B335/Spitzer/5.8um/pbcd/Mosaics/SPITZER_I3_4926208_0000_7_E8758094_maic.fits\n/Users/hunterholland/Documents/Research/Laidlaw/Data/Original/CB228/Spitzer/8.0um/pbcd/SPITZER_I4_4926976_0000_7_E8349133_maic.fits moved to /Users/hunterholland/Documents/Research/Laidlaw/Data/Original/CB228/Spitzer/8.0um/pbcd/Mosaics/SPITZER_I4_4926976_0000_7_E8349133_maic.fits\n/Users/hunterholland/Documents/Research/Laidlaw/Data/Original/CB228/Spitzer/4.5um/pbcd/SPITZER_I2_4926976_0000_7_E8349094_maic.fits moved to /Users/hunterholland/Documents/Research/Laidlaw/Data/Original/CB228/Spitzer/4.5um/pbcd/Mosaics/SPITZER_I2_4926976_0000_7_E8349094_maic.fits\n/Users/hunterholland/Documents/Research/Laidlaw/Data/Original/CB228/Spitzer/3.6um/pbcd/SPITZER_I1_4926976_0000_7_E8348653_maic.fits moved to /Users/hunterholland/Documents/Research/Laidlaw/Data/Original/CB228/Spitzer/3.6um/pbcd/Mosaics/SPITZER_I1_4926976_0000_7_E8348653_maic.fits\n/Users/hunterholland/Documents/Research/Laidlaw/Data/Original/CB228/Spitzer/5.8um/pbcd/SPITZER_I3_4926976_0000_7_E8348799_maic.fits moved to /Users/hunterholland/Documents/Research/Laidlaw/Data/Original/CB228/Spitzer/5.8um/pbcd/Mosaics/SPITZER_I3_4926976_0000_7_E8348799_maic.fits\n/Users/hunterholland/Documents/Research/Laidlaw/Data/Original/L1262/Spitzer/8.0um/pbcd/SPITZER_I4_4928256_0000_7_E8349807_maic.fits moved to /Users/hunterholland/Documents/Research/Laidlaw/Data/Original/L1262/Spitzer/8.0um/pbcd/Mosaics/SPITZER_I4_4928256_0000_7_E8349807_maic.fits\n/Users/hunterholland/Documents/Research/Laidlaw/Data/Original/L1262/Spitzer/4.5um/pbcd/SPITZER_I2_4928256_0000_7_E8349880_maic.fits moved to /Users/hunterholland/Documents/Research/Laidlaw/Data/Original/L1262/Spitzer/4.5um/pbcd/Mosaics/SPITZER_I2_4928256_0000_7_E8349880_maic.fits\n/Users/hunterholland/Documents/Research/Laidlaw/Data/Original/L1262/Spitzer/3.6um/pbcd/SPITZER_I1_4928256_0000_7_E8349869_maic.fits moved to /Users/hunterholland/Documents/Research/Laidlaw/Data/Original/L1262/Spitzer/3.6um/pbcd/Mosaics/SPITZER_I1_4928256_0000_7_E8349869_maic.fits\n/Users/hunterholland/Documents/Research/Laidlaw/Data/Original/L1262/Spitzer/5.8um/pbcd/SPITZER_I3_4928256_0000_7_E8349865_maic.fits moved to /Users/hunterholland/Documents/Research/Laidlaw/Data/Original/L1262/Spitzer/5.8um/pbcd/Mosaics/SPITZER_I3_4928256_0000_7_E8349865_maic.fits\n/Users/hunterholland/Documents/Research/Laidlaw/Data/Original/B59/Spitzer/8.0um/pbcd/SPITZER_I4_5131776_0000_8_E8744242_maic.fits moved to /Users/hunterholland/Documents/Research/Laidlaw/Data/Original/B59/Spitzer/8.0um/pbcd/Mosaics/SPITZER_I4_5131776_0000_8_E8744242_maic.fits\n/Users/hunterholland/Documents/Research/Laidlaw/Data/Original/B59/Spitzer/4.5um/pbcd/SPITZER_I2_5131776_0000_8_E8744155_maic.fits moved to /Users/hunterholland/Documents/Research/Laidlaw/Data/Original/B59/Spitzer/4.5um/pbcd/Mosaics/SPITZER_I2_5131776_0000_8_E8744155_maic.fits\n/Users/hunterholland/Documents/Research/Laidlaw/Data/Original/B59/Spitzer/3.6um/pbcd/SPITZER_I1_5131776_0000_8_E8744216_maic.fits moved to /Users/hunterholland/Documents/Research/Laidlaw/Data/Original/B59/Spitzer/3.6um/pbcd/Mosaics/SPITZER_I1_5131776_0000_8_E8744216_maic.fits\n/Users/hunterholland/Documents/Research/Laidlaw/Data/Original/B59/Spitzer/5.8um/pbcd/SPITZER_I3_5131776_0000_8_E8744240_maic.fits moved to /Users/hunterholland/Documents/Research/Laidlaw/Data/Original/B59/Spitzer/5.8um/pbcd/Mosaics/SPITZER_I3_5131776_0000_8_E8744240_maic.fits\n/Users/hunterholland/Documents/Research/Laidlaw/Data/Original/L1228/Spitzer/8.0um/pbcd/SPITZER_I4_5161216_0000_8_E8345213_maic.fits moved to /Users/hunterholland/Documents/Research/Laidlaw/Data/Original/L1228/Spitzer/8.0um/pbcd/Mosaics/SPITZER_I4_5161216_0000_8_E8345213_maic.fits\n/Users/hunterholland/Documents/Research/Laidlaw/Data/Original/L1228/Spitzer/4.5um/pbcd/SPITZER_I2_5161216_0000_8_E8345088_maic.fits moved to /Users/hunterholland/Documents/Research/Laidlaw/Data/Original/L1228/Spitzer/4.5um/pbcd/Mosaics/SPITZER_I2_5161216_0000_8_E8345088_maic.fits\n/Users/hunterholland/Documents/Research/Laidlaw/Data/Original/L1228/Spitzer/3.6um/pbcd/SPITZER_I1_5161216_0000_8_E8345004_maic.fits moved to /Users/hunterholland/Documents/Research/Laidlaw/Data/Original/L1228/Spitzer/3.6um/pbcd/Mosaics/SPITZER_I1_5161216_0000_8_E8345004_maic.fits\n/Users/hunterholland/Documents/Research/Laidlaw/Data/Original/L1228/Spitzer/5.8um/pbcd/SPITZER_I3_5161216_0000_8_E8345067_maic.fits moved to /Users/hunterholland/Documents/Research/Laidlaw/Data/Original/L1228/Spitzer/5.8um/pbcd/Mosaics/SPITZER_I3_5161216_0000_8_E8345067_maic.fits\n/Users/hunterholland/Documents/Research/Laidlaw/Data/Original/L1448/Spitzer/8.0um/pbcd/SPITZER_I4_12250880_0000_7_E8719984_maic.fits moved to /Users/hunterholland/Documents/Research/Laidlaw/Data/Original/L1448/Spitzer/8.0um/pbcd/Mosaics/SPITZER_I4_12250880_0000_7_E8719984_maic.fits\n/Users/hunterholland/Documents/Research/Laidlaw/Data/Original/L1448/Spitzer/4.5um/pbcd/SPITZER_I2_12250880_0000_7_E8720091_maic.fits moved to /Users/hunterholland/Documents/Research/Laidlaw/Data/Original/L1448/Spitzer/4.5um/pbcd/Mosaics/SPITZER_I2_12250880_0000_7_E8720091_maic.fits\n/Users/hunterholland/Documents/Research/Laidlaw/Data/Original/L1448/Spitzer/3.6um/pbcd/SPITZER_I1_12250880_0000_7_E8719970_maic.fits moved to /Users/hunterholland/Documents/Research/Laidlaw/Data/Original/L1448/Spitzer/3.6um/pbcd/Mosaics/SPITZER_I1_12250880_0000_7_E8719970_maic.fits\n/Users/hunterholland/Documents/Research/Laidlaw/Data/Original/L1448/Spitzer/5.8um/pbcd/SPITZER_I3_12250880_0000_7_E8720017_maic.fits moved to /Users/hunterholland/Documents/Research/Laidlaw/Data/Original/L1448/Spitzer/5.8um/pbcd/Mosaics/SPITZER_I3_12250880_0000_7_E8720017_maic.fits\n/Users/hunterholland/Documents/Research/Laidlaw/Data/Original/L1251BE/Spitzer/8.0um/pbcd/SPITZER_I4_5167360_0000_6_E8332407_maic.fits moved to /Users/hunterholland/Documents/Research/Laidlaw/Data/Original/L1251BE/Spitzer/8.0um/pbcd/Mosaics/SPITZER_I4_5167360_0000_6_E8332407_maic.fits\n/Users/hunterholland/Documents/Research/Laidlaw/Data/Original/L1251BE/Spitzer/4.5um/pbcd/SPITZER_I2_5167360_0000_6_E8332335_maic.fits moved to /Users/hunterholland/Documents/Research/Laidlaw/Data/Original/L1251BE/Spitzer/4.5um/pbcd/Mosaics/SPITZER_I2_5167360_0000_6_E8332335_maic.fits\n/Users/hunterholland/Documents/Research/Laidlaw/Data/Original/L1251BE/Spitzer/3.6um/pbcd/SPITZER_I1_5167360_0000_6_E8332516_maic.fits moved to /Users/hunterholland/Documents/Research/Laidlaw/Data/Original/L1251BE/Spitzer/3.6um/pbcd/Mosaics/SPITZER_I1_5167360_0000_6_E8332516_maic.fits\n/Users/hunterholland/Documents/Research/Laidlaw/Data/Original/L1251BE/Spitzer/5.8um/pbcd/SPITZER_I3_5167360_0000_6_E8332712_maic.fits moved to /Users/hunterholland/Documents/Research/Laidlaw/Data/Original/L1251BE/Spitzer/5.8um/pbcd/Mosaics/SPITZER_I3_5167360_0000_6_E8332712_maic.fits\n/Users/hunterholland/Documents/Research/Laidlaw/Data/Original/L1517/Spitzer/8.0um/pbcd/SPITZER_I4_4915200_0000_9_E8358131_maic.fits moved to /Users/hunterholland/Documents/Research/Laidlaw/Data/Original/L1517/Spitzer/8.0um/pbcd/Mosaics/SPITZER_I4_4915200_0000_9_E8358131_maic.fits\n/Users/hunterholland/Documents/Research/Laidlaw/Data/Original/L1517/Spitzer/4.5um/pbcd/SPITZER_I2_4915200_0000_9_E8358136_maic.fits moved to /Users/hunterholland/Documents/Research/Laidlaw/Data/Original/L1517/Spitzer/4.5um/pbcd/Mosaics/SPITZER_I2_4915200_0000_9_E8358136_maic.fits\n/Users/hunterholland/Documents/Research/Laidlaw/Data/Original/L1517/Spitzer/3.6um/pbcd/SPITZER_I1_4915200_0000_9_E8358113_maic.fits moved to /Users/hunterholland/Documents/Research/Laidlaw/Data/Original/L1517/Spitzer/3.6um/pbcd/Mosaics/SPITZER_I1_4915200_0000_9_E8358113_maic.fits\n/Users/hunterholland/Documents/Research/Laidlaw/Data/Original/L1517/Spitzer/5.8um/pbcd/SPITZER_I3_4915200_0000_9_E8358116_maic.fits moved to /Users/hunterholland/Documents/Research/Laidlaw/Data/Original/L1517/Spitzer/5.8um/pbcd/Mosaics/SPITZER_I3_4915200_0000_9_E8358116_maic.fits\n/Users/hunterholland/Documents/Research/Laidlaw/Data/Original/L1439/Spitzer/8.0um/pbcd/SPITZER_I4_4916224_0000_9_E8357075_maic.fits moved to /Users/hunterholland/Documents/Research/Laidlaw/Data/Original/L1439/Spitzer/8.0um/pbcd/Mosaics/SPITZER_I4_4916224_0000_9_E8357075_maic.fits\n/Users/hunterholland/Documents/Research/Laidlaw/Data/Original/L1439/Spitzer/4.5um/pbcd/SPITZER_I2_4916224_0000_9_E8357030_maic.fits moved to /Users/hunterholland/Documents/Research/Laidlaw/Data/Original/L1439/Spitzer/4.5um/pbcd/Mosaics/SPITZER_I2_4916224_0000_9_E8357030_maic.fits\n/Users/hunterholland/Documents/Research/Laidlaw/Data/Original/L1439/Spitzer/3.6um/pbcd/SPITZER_I1_4916224_0000_9_E8357046_maic.fits moved to /Users/hunterholland/Documents/Research/Laidlaw/Data/Original/L1439/Spitzer/3.6um/pbcd/Mosaics/SPITZER_I1_4916224_0000_9_E8357046_maic.fits\n/Users/hunterholland/Documents/Research/Laidlaw/Data/Original/L1439/Spitzer/5.8um/pbcd/SPITZER_I3_4916224_0000_9_E8357024_maic.fits moved to /Users/hunterholland/Documents/Research/Laidlaw/Data/Original/L1439/Spitzer/5.8um/pbcd/Mosaics/SPITZER_I3_4916224_0000_9_E8357024_maic.fits\n/Users/hunterholland/Documents/Research/Laidlaw/Data/Modified/L1521E/Spitzer/8.0um/pbcd/SPITZER_I4_14609920_0000_4_E8592928_maic.fits moved to /Users/hunterholland/Documents/Research/Laidlaw/Data/Modified/L1521E/Spitzer/8.0um/pbcd/Mosaics/SPITZER_I4_14609920_0000_4_E8592928_maic.fits\n/Users/hunterholland/Documents/Research/Laidlaw/Data/Modified/L1521E/Spitzer/4.5um/pbcd/SPITZER_I2_14609920_0000_4_E8592938_maic.fits moved to /Users/hunterholland/Documents/Research/Laidlaw/Data/Modified/L1521E/Spitzer/4.5um/pbcd/Mosaics/SPITZER_I2_14609920_0000_4_E8592938_maic.fits\n/Users/hunterholland/Documents/Research/Laidlaw/Data/Modified/L1521E/Spitzer/3.6um/pbcd/SPITZER_I1_14609920_0000_4_E8593050_maic.fits moved to /Users/hunterholland/Documents/Research/Laidlaw/Data/Modified/L1521E/Spitzer/3.6um/pbcd/Mosaics/SPITZER_I1_14609920_0000_4_E8593050_maic.fits\n/Users/hunterholland/Documents/Research/Laidlaw/Data/Modified/L1521E/Spitzer/5.8um/pbcd/SPITZER_I3_14609920_0000_4_E8593079_maic.fits moved to /Users/hunterholland/Documents/Research/Laidlaw/Data/Modified/L1521E/Spitzer/5.8um/pbcd/Mosaics/SPITZER_I3_14609920_0000_4_E8593079_maic.fits\n/Users/hunterholland/Documents/Research/Laidlaw/Data/Modified/B335/Spitzer/8.0um/pbcd/SPITZER_I4_4926208_0000_7_E8758092_maic.fits moved to /Users/hunterholland/Documents/Research/Laidlaw/Data/Modified/B335/Spitzer/8.0um/pbcd/Mosaics/SPITZER_I4_4926208_0000_7_E8758092_maic.fits\n/Users/hunterholland/Documents/Research/Laidlaw/Data/Modified/B335/Spitzer/4.5um/pbcd/SPITZER_I2_4926208_0000_7_E8758171_maic.fits moved to /Users/hunterholland/Documents/Research/Laidlaw/Data/Modified/B335/Spitzer/4.5um/pbcd/Mosaics/SPITZER_I2_4926208_0000_7_E8758171_maic.fits\n/Users/hunterholland/Documents/Research/Laidlaw/Data/Modified/B335/Spitzer/3.6um/pbcd/SPITZER_I1_4926208_0000_7_E8758160_maic.fits moved to /Users/hunterholland/Documents/Research/Laidlaw/Data/Modified/B335/Spitzer/3.6um/pbcd/Mosaics/SPITZER_I1_4926208_0000_7_E8758160_maic.fits\n/Users/hunterholland/Documents/Research/Laidlaw/Data/Modified/B335/Spitzer/5.8um/pbcd/SPITZER_I3_4926208_0000_7_E8758094_maic.fits moved to /Users/hunterholland/Documents/Research/Laidlaw/Data/Modified/B335/Spitzer/5.8um/pbcd/Mosaics/SPITZER_I3_4926208_0000_7_E8758094_maic.fits\n/Users/hunterholland/Documents/Research/Laidlaw/Data/Modified/CB228/Spitzer/8.0um/pbcd/SPITZER_I4_4926976_0000_7_E8349133_maic.fits moved to /Users/hunterholland/Documents/Research/Laidlaw/Data/Modified/CB228/Spitzer/8.0um/pbcd/Mosaics/SPITZER_I4_4926976_0000_7_E8349133_maic.fits\n/Users/hunterholland/Documents/Research/Laidlaw/Data/Modified/CB228/Spitzer/4.5um/pbcd/SPITZER_I2_4926976_0000_7_E8349094_maic.fits moved to /Users/hunterholland/Documents/Research/Laidlaw/Data/Modified/CB228/Spitzer/4.5um/pbcd/Mosaics/SPITZER_I2_4926976_0000_7_E8349094_maic.fits\n/Users/hunterholland/Documents/Research/Laidlaw/Data/Modified/CB228/Spitzer/3.6um/pbcd/SPITZER_I1_4926976_0000_7_E8348653_maic.fits moved to /Users/hunterholland/Documents/Research/Laidlaw/Data/Modified/CB228/Spitzer/3.6um/pbcd/Mosaics/SPITZER_I1_4926976_0000_7_E8348653_maic.fits\n/Users/hunterholland/Documents/Research/Laidlaw/Data/Modified/CB228/Spitzer/5.8um/pbcd/SPITZER_I3_4926976_0000_7_E8348799_maic.fits moved to /Users/hunterholland/Documents/Research/Laidlaw/Data/Modified/CB228/Spitzer/5.8um/pbcd/Mosaics/SPITZER_I3_4926976_0000_7_E8348799_maic.fits\n/Users/hunterholland/Documents/Research/Laidlaw/Data/Modified/L1262/Spitzer/8.0um/pbcd/SPITZER_I4_4928256_0000_7_E8349807_maic.fits moved to /Users/hunterholland/Documents/Research/Laidlaw/Data/Modified/L1262/Spitzer/8.0um/pbcd/Mosaics/SPITZER_I4_4928256_0000_7_E8349807_maic.fits\n/Users/hunterholland/Documents/Research/Laidlaw/Data/Modified/L1262/Spitzer/4.5um/pbcd/SPITZER_I2_4928256_0000_7_E8349880_maic.fits moved to /Users/hunterholland/Documents/Research/Laidlaw/Data/Modified/L1262/Spitzer/4.5um/pbcd/Mosaics/SPITZER_I2_4928256_0000_7_E8349880_maic.fits\n/Users/hunterholland/Documents/Research/Laidlaw/Data/Modified/L1262/Spitzer/3.6um/pbcd/SPITZER_I1_4928256_0000_7_E8349869_maic.fits moved to /Users/hunterholland/Documents/Research/Laidlaw/Data/Modified/L1262/Spitzer/3.6um/pbcd/Mosaics/SPITZER_I1_4928256_0000_7_E8349869_maic.fits\n/Users/hunterholland/Documents/Research/Laidlaw/Data/Modified/L1262/Spitzer/5.8um/pbcd/SPITZER_I3_4928256_0000_7_E8349865_maic.fits moved to /Users/hunterholland/Documents/Research/Laidlaw/Data/Modified/L1262/Spitzer/5.8um/pbcd/Mosaics/SPITZER_I3_4928256_0000_7_E8349865_maic.fits\n/Users/hunterholland/Documents/Research/Laidlaw/Data/Modified/B59/Spitzer/8.0um/pbcd/SPITZER_I4_5131776_0000_8_E8744242_maic.fits moved to /Users/hunterholland/Documents/Research/Laidlaw/Data/Modified/B59/Spitzer/8.0um/pbcd/Mosaics/SPITZER_I4_5131776_0000_8_E8744242_maic.fits\n/Users/hunterholland/Documents/Research/Laidlaw/Data/Modified/B59/Spitzer/4.5um/pbcd/SPITZER_I2_5131776_0000_8_E8744155_maic.fits moved to /Users/hunterholland/Documents/Research/Laidlaw/Data/Modified/B59/Spitzer/4.5um/pbcd/Mosaics/SPITZER_I2_5131776_0000_8_E8744155_maic.fits\n/Users/hunterholland/Documents/Research/Laidlaw/Data/Modified/B59/Spitzer/3.6um/pbcd/SPITZER_I1_5131776_0000_8_E8744216_maic.fits moved to /Users/hunterholland/Documents/Research/Laidlaw/Data/Modified/B59/Spitzer/3.6um/pbcd/Mosaics/SPITZER_I1_5131776_0000_8_E8744216_maic.fits\n/Users/hunterholland/Documents/Research/Laidlaw/Data/Modified/B59/Spitzer/5.8um/pbcd/SPITZER_I3_5131776_0000_8_E8744240_maic.fits moved to /Users/hunterholland/Documents/Research/Laidlaw/Data/Modified/B59/Spitzer/5.8um/pbcd/Mosaics/SPITZER_I3_5131776_0000_8_E8744240_maic.fits\n/Users/hunterholland/Documents/Research/Laidlaw/Data/Modified/L1228/Spitzer/8.0um/pbcd/SPITZER_I4_5161216_0000_8_E8345213_maic.fits moved to /Users/hunterholland/Documents/Research/Laidlaw/Data/Modified/L1228/Spitzer/8.0um/pbcd/Mosaics/SPITZER_I4_5161216_0000_8_E8345213_maic.fits\n/Users/hunterholland/Documents/Research/Laidlaw/Data/Modified/L1228/Spitzer/4.5um/pbcd/SPITZER_I2_5161216_0000_8_E8345088_maic.fits moved to /Users/hunterholland/Documents/Research/Laidlaw/Data/Modified/L1228/Spitzer/4.5um/pbcd/Mosaics/SPITZER_I2_5161216_0000_8_E8345088_maic.fits\n/Users/hunterholland/Documents/Research/Laidlaw/Data/Modified/L1228/Spitzer/3.6um/pbcd/SPITZER_I1_5161216_0000_8_E8345004_maic.fits moved to /Users/hunterholland/Documents/Research/Laidlaw/Data/Modified/L1228/Spitzer/3.6um/pbcd/Mosaics/SPITZER_I1_5161216_0000_8_E8345004_maic.fits\n/Users/hunterholland/Documents/Research/Laidlaw/Data/Modified/L1228/Spitzer/5.8um/pbcd/SPITZER_I3_5161216_0000_8_E8345067_maic.fits moved to /Users/hunterholland/Documents/Research/Laidlaw/Data/Modified/L1228/Spitzer/5.8um/pbcd/Mosaics/SPITZER_I3_5161216_0000_8_E8345067_maic.fits\n/Users/hunterholland/Documents/Research/Laidlaw/Data/Modified/L1448/Spitzer/8.0um/pbcd/SPITZER_I4_12250880_0000_7_E8719984_maic.fits moved to /Users/hunterholland/Documents/Research/Laidlaw/Data/Modified/L1448/Spitzer/8.0um/pbcd/Mosaics/SPITZER_I4_12250880_0000_7_E8719984_maic.fits\n/Users/hunterholland/Documents/Research/Laidlaw/Data/Modified/L1448/Spitzer/4.5um/pbcd/SPITZER_I2_12250880_0000_7_E8720091_maic.fits moved to /Users/hunterholland/Documents/Research/Laidlaw/Data/Modified/L1448/Spitzer/4.5um/pbcd/Mosaics/SPITZER_I2_12250880_0000_7_E8720091_maic.fits\n/Users/hunterholland/Documents/Research/Laidlaw/Data/Modified/L1448/Spitzer/3.6um/pbcd/SPITZER_I1_12250880_0000_7_E8719970_maic.fits moved to /Users/hunterholland/Documents/Research/Laidlaw/Data/Modified/L1448/Spitzer/3.6um/pbcd/Mosaics/SPITZER_I1_12250880_0000_7_E8719970_maic.fits\n/Users/hunterholland/Documents/Research/Laidlaw/Data/Modified/L1448/Spitzer/5.8um/pbcd/SPITZER_I3_12250880_0000_7_E8720017_maic.fits moved to /Users/hunterholland/Documents/Research/Laidlaw/Data/Modified/L1448/Spitzer/5.8um/pbcd/Mosaics/SPITZER_I3_12250880_0000_7_E8720017_maic.fits\n/Users/hunterholland/Documents/Research/Laidlaw/Data/Modified/L1251BE/Spitzer/8.0um/pbcd/SPITZER_I4_5167360_0000_6_E8332407_maic.fits moved to /Users/hunterholland/Documents/Research/Laidlaw/Data/Modified/L1251BE/Spitzer/8.0um/pbcd/Mosaics/SPITZER_I4_5167360_0000_6_E8332407_maic.fits\n/Users/hunterholland/Documents/Research/Laidlaw/Data/Modified/L1251BE/Spitzer/4.5um/pbcd/SPITZER_I2_5167360_0000_6_E8332335_maic.fits moved to /Users/hunterholland/Documents/Research/Laidlaw/Data/Modified/L1251BE/Spitzer/4.5um/pbcd/Mosaics/SPITZER_I2_5167360_0000_6_E8332335_maic.fits\n/Users/hunterholland/Documents/Research/Laidlaw/Data/Modified/L1251BE/Spitzer/3.6um/pbcd/SPITZER_I1_5167360_0000_6_E8332516_maic.fits moved to /Users/hunterholland/Documents/Research/Laidlaw/Data/Modified/L1251BE/Spitzer/3.6um/pbcd/Mosaics/SPITZER_I1_5167360_0000_6_E8332516_maic.fits\n/Users/hunterholland/Documents/Research/Laidlaw/Data/Modified/L1251BE/Spitzer/5.8um/pbcd/SPITZER_I3_5167360_0000_6_E8332712_maic.fits moved to /Users/hunterholland/Documents/Research/Laidlaw/Data/Modified/L1251BE/Spitzer/5.8um/pbcd/Mosaics/SPITZER_I3_5167360_0000_6_E8332712_maic.fits\n/Users/hunterholland/Documents/Research/Laidlaw/Data/Modified/L1517/Spitzer/8.0um/pbcd/SPITZER_I4_4915200_0000_9_E8358131_maic.fits moved to /Users/hunterholland/Documents/Research/Laidlaw/Data/Modified/L1517/Spitzer/8.0um/pbcd/Mosaics/SPITZER_I4_4915200_0000_9_E8358131_maic.fits\n/Users/hunterholland/Documents/Research/Laidlaw/Data/Modified/L1517/Spitzer/4.5um/pbcd/SPITZER_I2_4915200_0000_9_E8358136_maic.fits moved to /Users/hunterholland/Documents/Research/Laidlaw/Data/Modified/L1517/Spitzer/4.5um/pbcd/Mosaics/SPITZER_I2_4915200_0000_9_E8358136_maic.fits\n/Users/hunterholland/Documents/Research/Laidlaw/Data/Modified/L1517/Spitzer/3.6um/pbcd/SPITZER_I1_4915200_0000_9_E8358113_maic.fits moved to /Users/hunterholland/Documents/Research/Laidlaw/Data/Modified/L1517/Spitzer/3.6um/pbcd/Mosaics/SPITZER_I1_4915200_0000_9_E8358113_maic.fits\n/Users/hunterholland/Documents/Research/Laidlaw/Data/Modified/L1517/Spitzer/5.8um/pbcd/SPITZER_I3_4915200_0000_9_E8358116_maic.fits moved to /Users/hunterholland/Documents/Research/Laidlaw/Data/Modified/L1517/Spitzer/5.8um/pbcd/Mosaics/SPITZER_I3_4915200_0000_9_E8358116_maic.fits\n/Users/hunterholland/Documents/Research/Laidlaw/Data/Modified/L1439/Spitzer/8.0um/pbcd/SPITZER_I4_4916224_0000_9_E8357075_maic.fits moved to /Users/hunterholland/Documents/Research/Laidlaw/Data/Modified/L1439/Spitzer/8.0um/pbcd/Mosaics/SPITZER_I4_4916224_0000_9_E8357075_maic.fits\n/Users/hunterholland/Documents/Research/Laidlaw/Data/Modified/L1439/Spitzer/4.5um/pbcd/SPITZER_I2_4916224_0000_9_E8357030_maic.fits moved to /Users/hunterholland/Documents/Research/Laidlaw/Data/Modified/L1439/Spitzer/4.5um/pbcd/Mosaics/SPITZER_I2_4916224_0000_9_E8357030_maic.fits\n/Users/hunterholland/Documents/Research/Laidlaw/Data/Modified/L1439/Spitzer/3.6um/pbcd/SPITZER_I1_4916224_0000_9_E8357046_maic.fits moved to /Users/hunterholland/Documents/Research/Laidlaw/Data/Modified/L1439/Spitzer/3.6um/pbcd/Mosaics/SPITZER_I1_4916224_0000_9_E8357046_maic.fits\n/Users/hunterholland/Documents/Research/Laidlaw/Data/Modified/L1439/Spitzer/5.8um/pbcd/SPITZER_I3_4916224_0000_9_E8357024_maic.fits moved to /Users/hunterholland/Documents/Research/Laidlaw/Data/Modified/L1439/Spitzer/5.8um/pbcd/Mosaics/SPITZER_I3_4916224_0000_9_E8357024_maic.fits\n"
    }
   ],
   "source": [
    "parent_dir_basename = \"pbcd\"\n",
    "new_folder_name = \"Mosaics\"\n",
    "matched_phrases = [\"_maic.fits\"]\n",
    "\n",
    "for directory, subdir, files in os.walk(f\"{data_dir}\"):\n",
    "    if parent_dir_basename in os.path.basename(directory):\n",
    "        if not new_folder_name in subdir:\n",
    "            os.mkdir(f\"{directory}/{new_folder_name}\")\n",
    "            for filename in files:\n",
    "                for phrase in matched_phrases:\n",
    "                    if phrase in filename:\n",
    "                        shutil.move(f\"{directory}/{filename}\",\n",
    "                                    f\"{directory}/{new_folder_name}/{filename}\")\n",
    "                        print(f\"{directory}/{filename} moved to {directory}/{new_folder_name}/{filename}\")"
   ]
  },
  {
   "cell_type": "code",
   "execution_count": null,
   "metadata": {},
   "outputs": [],
   "source": []
  }
 ],
 "metadata": {
  "language_info": {
   "codemirror_mode": {
    "name": "ipython",
    "version": 3
   },
   "file_extension": ".py",
   "mimetype": "text/x-python",
   "name": "python",
   "nbconvert_exporter": "python",
   "pygments_lexer": "ipython3",
   "version": "3.7.6-final"
  },
  "orig_nbformat": 2,
  "kernelspec": {
   "name": "python3",
   "display_name": "Python 3"
  }
 },
 "nbformat": 4,
 "nbformat_minor": 2
}