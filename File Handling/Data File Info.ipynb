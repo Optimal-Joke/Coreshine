{
 "cells": [
  {
   "cell_type": "code",
   "execution_count": 1,
   "metadata": {},
   "outputs": [],
   "source": [
    "import glob\n",
    "import subprocess\n",
    "import os\n",
    "from astropy.io import fits\n",
    "import numpy as np\n",
    "import matplotlib.pyplot as plt\n",
    "\n",
    "original_dir = \"/Users/hunterholland/Documents/Research/Laidlaw/Data/Original\"\n",
    "data_dir = \"/Users/hunterholland/Documents/Research/Laidlaw/Data/Modified\""
   ]
  },
  {
   "cell_type": "markdown",
   "metadata": {},
   "source": [
    "## Original Files"
   ]
  },
  {
   "cell_type": "code",
   "execution_count": 2,
   "metadata": {},
   "outputs": [],
   "source": [
    "spitzer_sample_org = None\n",
    "chandra_sample_org = f\"{original_dir}/L1517/Chandra/primary/acisf03755N004_evt2.fits\"\n",
    "xmm_sample_org = f\"{original_dir}/L1517/XMM/PPS/evt/P0101440801M1S001MIEVLI0000.FTZ\"\n",
    "rosat_sample_org = f\"{original_dir}/L1517/ROSAT/rp201278a01_bas.fits\"\n",
    "swift_sample_org = f\"{original_dir}/L1517/Swift/xrt/event/sw00034249004xpcw3po_cl.evt.gz\""
   ]
  },
  {
   "cell_type": "markdown",
   "metadata": {},
   "source": [
    "## Sample Files"
   ]
  },
  {
   "cell_type": "code",
   "execution_count": 3,
   "metadata": {},
   "outputs": [],
   "source": [
    "spitzer_sample = None\n",
    "chandra_sample = f\"{data_dir}/L1517/Chandra/primary/acisf03755N004_evt2.fits.gz\"\n",
    "xmm_sample = f\"{data_dir}/L1517/XMM/PPS/evt/P0101440801M1S001MIEVLI0000.FTZ\"\n",
    "rosat_sample = f\"{data_dir}/L1517/ROSAT/rp201278a01_bas.fits.Z\"\n",
    "swift_sample = f\"{data_dir}/L1517/Swift/xrt/event/sw00034249004xpcw3po_cl.evt.gz\"\n",
    "rosat_sample=\"/Users/hunterholland/Documents/Research/Laidlaw/Data/Modified/L1448/ROSAT/rh201947a01_bas.fits.Z\"\n",
    "\n",
    "test = \"/Users/hunterholland/Documents/Research/Laidlaw/Data/Modified/B59/Swift/xrt/event/sw00037645002xpcw3po_cl.evt.gz\""
   ]
  },
  {
   "cell_type": "markdown",
   "metadata": {},
   "source": [
    "# Chandra\n",
    "## Event File Info"
   ]
  },
  {
   "cell_type": "code",
   "execution_count": 4,
   "metadata": {
    "tags": []
   },
   "outputs": [
    {
     "output_type": "stream",
     "name": "stdout",
     "text": "Filename: /Users/hunterholland/Documents/Research/Laidlaw/Data/Modified/L1517/Chandra/primary/acisf03755N004_evt2.fits.gz\nNo.    Name      Ver    Type      Cards   Dimensions   Format\n  0  PRIMARY       1 PrimaryHDU      30   ()      \n  1  EVENTS        1 BinTableHDU   1073   847215R x 26C   [1D, 1J, 1E, 1E, 1I, 1I, 1I, 1I, 1E, 1E, 1E, 1E, 1I, 1J, 1I, 1E, 1I, 1I, 1I, 1I, 1E, 1E, 1I, 1I, 1I, 32X]   \n  2  GTI           7 BinTableHDU     28   1R x 2C   [1D, 1D]   \n  3  GTI           4 BinTableHDU     28   2R x 2C   [1D, 1D]   \n  4  GTI           5 BinTableHDU     28   1R x 2C   [1D, 1D]   \n  5  GTI           6 BinTableHDU     28   1R x 2C   [1D, 1D]   \n  6  GTI           8 BinTableHDU     28   1R x 2C   [1D, 1D]   \n  7  GTI           9 BinTableHDU     28   1R x 2C   [1D, 1D]   \n  8  REGION        1 BinTableHDU    296   3R x 9C   [1I, 16A, 1E, 1E, 2E, 1E, 16A, 1I, 1I]   \n"
    }
   ],
   "source": [
    "hdu_list = fits.open(chandra_sample)\n",
    "hdu_list.info()"
   ]
  },
  {
   "cell_type": "markdown",
   "metadata": {},
   "source": [
    "## Event Column Names"
   ]
  },
  {
   "cell_type": "code",
   "execution_count": 5,
   "metadata": {},
   "outputs": [
    {
     "output_type": "execute_result",
     "data": {
      "text/plain": "ColDefs(\n    name = 'time'; format = '1D'; unit = 's'\n    name = 'expno'; format = '1J'\n    name = 'tg_r'; format = '1E'; unit = 'deg'\n    name = 'tg_d'; format = '1E'; unit = 'deg'\n    name = 'chipx'; format = '1I'; unit = 'pixel'; coord_type = 'CPCX'; coord_unit = 'mm'; coord_ref_point = 0.5; coord_ref_value = 0.0; coord_inc = 0.023987\n    name = 'chipy'; format = '1I'; unit = 'pixel'; coord_type = 'CPCY'; coord_unit = 'mm'; coord_ref_point = 0.5; coord_ref_value = 0.0; coord_inc = 0.023987\n    name = 'tdetx'; format = '1I'; unit = 'pixel'\n    name = 'tdety'; format = '1I'; unit = 'pixel'\n    name = 'detx'; format = '1E'; unit = 'pixel'; coord_type = 'LONG-TAN'; coord_unit = 'deg'; coord_ref_point = 4096.5; coord_ref_value = 0.0; coord_inc = 0.00013666666666667\n    name = 'dety'; format = '1E'; unit = 'pixel'; coord_type = 'NPOL-TAN'; coord_unit = 'deg'; coord_ref_point = 4096.5; coord_ref_value = 0.0; coord_inc = 0.00013666666666667\n    name = 'x'; format = '1E'; unit = 'pixel'; coord_type = 'RA---TAN'; coord_unit = 'deg'; coord_ref_point = 4096.5; coord_ref_value = 74.000073352281; coord_inc = -0.00013666666666667\n    name = 'y'; format = '1E'; unit = 'pixel'; coord_type = 'DEC--TAN'; coord_unit = 'deg'; coord_ref_point = 4096.5; coord_ref_value = 30.567044478972; coord_inc = 0.00013666666666667\n    name = 'ccd_id'; format = '1I'\n    name = 'pha'; format = '1J'; null = 0\n    name = 'pi'; format = '1I'; null = 0\n    name = 'energy'; format = '1E'\n    name = 'grade'; format = '1I'\n    name = 'fltgrade'; format = '1I'\n    name = 'node_id'; format = '1I'\n    name = 'tg_m'; format = '1I'; null = 99\n    name = 'tg_lam'; format = '1E'; unit = 'angstrom'\n    name = 'tg_mlam'; format = '1E'; unit = 'angstrom'\n    name = 'tg_srcid'; format = '1I'\n    name = 'tg_part'; format = '1I'\n    name = 'tg_smap'; format = '1I'\n    name = 'status'; format = '32X'\n)"
     },
     "metadata": {},
     "execution_count": 5
    }
   ],
   "source": [
    "evt_table = hdu_list[1]\n",
    "evt_table.columns\n",
    "# energy column name = \"energy\""
   ]
  },
  {
   "cell_type": "markdown",
   "metadata": {},
   "source": [
    "# XMM-Newton\n",
    "## Event File Info"
   ]
  },
  {
   "cell_type": "code",
   "execution_count": 6,
   "metadata": {
    "tags": []
   },
   "outputs": [
    {
     "output_type": "stream",
     "name": "stdout",
     "text": "Filename: /Users/hunterholland/Documents/Research/Laidlaw/Data/Modified/L1517/XMM/PPS/evt/P0101440801M1S001MIEVLI0000.FTZ\nNo.    Name      Ver    Type      Cards   Dimensions   Format\n  0  PRIMARY       1 PrimaryHDU     184   ()      \n  1  EVENTS        1 BinTableHDU    223   372956R x 12C   [D, I, I, I, I, J, J, I, I, J, B, B]   \n  2  OFFSETS       1 BinTableHDU     79   56R x 4C   [I, I, I, B]   \n  3  EXPOSU01      1 BinTableHDU    152   49234R x 3C   [D, E, E]   \n  4  BADPIX01      1 BinTableHDU     75   701R x 5C   [I, I, I, I, I]   \n  5  EXPOSU02      1 BinTableHDU    152   48982R x 3C   [D, E, E]   \n  6  BADPIX02      1 BinTableHDU     75   702R x 5C   [I, I, I, I, I]   \n  7  EXPOSU03      1 BinTableHDU    152   49308R x 3C   [D, E, E]   \n  8  BADPIX03      1 BinTableHDU     75   657R x 5C   [I, I, I, I, I]   \n  9  EXPOSU04      1 BinTableHDU    152   49329R x 3C   [D, E, E]   \n 10  BADPIX04      1 BinTableHDU     75   1004R x 5C   [I, I, I, I, I]   \n 11  EXPOSU05      1 BinTableHDU    152   48962R x 3C   [D, E, E]   \n 12  BADPIX05      1 BinTableHDU     75   775R x 5C   [I, I, I, I, I]   \n 13  EXPOSU06      1 BinTableHDU    152   49317R x 3C   [D, E, E]   \n 14  BADPIX06      1 BinTableHDU     75   707R x 5C   [I, I, I, I, I]   \n 15  EXPOSU07      1 BinTableHDU    152   49331R x 3C   [D, E, E]   \n 16  BADPIX07      1 BinTableHDU     75   761R x 5C   [I, I, I, I, I]   \n 17  STDGTI01      1 BinTableHDU     28   45R x 2C   [D, D]   \n 18  STDGTI02      1 BinTableHDU     28   16R x 2C   [D, D]   \n 19  STDGTI03      1 BinTableHDU     28   16R x 2C   [D, D]   \n 20  STDGTI04      1 BinTableHDU     28   15R x 2C   [D, D]   \n 21  STDGTI05      1 BinTableHDU     28   32R x 2C   [D, D]   \n 22  STDGTI06      1 BinTableHDU     28   17R x 2C   [D, D]   \n 23  STDGTI07      1 BinTableHDU     28   18R x 2C   [D, D]   \n 24  CALINDEX      1 BinTableHDU     45   121R x 14C   [4A, 6A, 32A, I, 19A, 19A, 256A, 19A, J, 19A, 32A, 256A, 32A, 64A]   \n"
    }
   ],
   "source": [
    "hdu_list = fits.open(xmm_sample)\n",
    "hdu_list.info()"
   ]
  },
  {
   "cell_type": "markdown",
   "metadata": {},
   "source": [
    "## Event Column Names"
   ]
  },
  {
   "cell_type": "code",
   "execution_count": 7,
   "metadata": {},
   "outputs": [
    {
     "output_type": "execute_result",
     "data": {
      "text/plain": "ColDefs(\n    name = 'TIME'; format = 'D'; unit = 's'\n    name = 'RAWX'; format = 'I'; unit = 'PIXELS'\n    name = 'RAWY'; format = 'I'; unit = 'PIXELS'\n    name = 'DETX'; format = 'I'; unit = 'pixel'; coord_type = 'DETX_ANG'; coord_unit = 'deg'; coord_ref_point = 0; coord_ref_value = 0.0; coord_inc = 1.38888888888889e-05\n    name = 'DETY'; format = 'I'; unit = 'pixel'; coord_type = 'DETY_ANG'; coord_unit = 'deg'; coord_ref_point = 0; coord_ref_value = 0.0; coord_inc = 1.38888888888889e-05\n    name = 'X'; format = 'J'; unit = 'pixel'; null = -99999999; coord_type = 'RA---TAN'; coord_unit = 'deg'; coord_ref_point = 25921; coord_ref_value = 73.97325; coord_inc = -1.38888888888889e-05\n    name = 'Y'; format = 'J'; unit = 'pixel'; null = -99999999; coord_type = 'DEC--TAN'; coord_unit = 'deg'; coord_ref_point = 25921; coord_ref_value = 30.5853333333333; coord_inc = 1.38888888888889e-05\n    name = 'PHA'; format = 'I'; unit = 'CHAN'\n    name = 'PI'; format = 'I'; unit = 'CHAN'\n    name = 'FLAG'; format = 'J'\n    name = 'PATTERN'; format = 'B'\n    name = 'CCDNR'; format = 'B'\n)"
     },
     "metadata": {},
     "execution_count": 7
    }
   ],
   "source": [
    "evt_table = hdu_list[1]\n",
    "evt_table.columns"
   ]
  },
  {
   "cell_type": "code",
   "execution_count": 8,
   "metadata": {},
   "outputs": [],
   "source": [
    "evt_data = evt_table.data\n",
    "energy = evt_data[\"PI\"] \n",
    "coords = evt_table.data[\"X\"]"
   ]
  },
  {
   "cell_type": "markdown",
   "metadata": {},
   "source": [
    "# ROSAT\n",
    "## Event File Info"
   ]
  },
  {
   "cell_type": "code",
   "execution_count": 9,
   "metadata": {},
   "outputs": [
    {
     "output_type": "error",
     "ename": "OSError",
     "evalue": "Empty or corrupt FITS file",
     "traceback": [
      "\u001b[0;31m---------------------------------------------------------------------------\u001b[0m",
      "\u001b[0;31mOSError\u001b[0m                                   Traceback (most recent call last)",
      "\u001b[0;32m<ipython-input-9-8429c313cc02>\u001b[0m in \u001b[0;36m<module>\u001b[0;34m\u001b[0m\n\u001b[0;32m----> 1\u001b[0;31m \u001b[0mfits\u001b[0m\u001b[0;34m.\u001b[0m\u001b[0mgetdata\u001b[0m\u001b[0;34m(\u001b[0m\u001b[0mrosat_sample\u001b[0m\u001b[0;34m,\u001b[0m \u001b[0mlazy_load_hdus\u001b[0m\u001b[0;34m=\u001b[0m\u001b[0;32mFalse\u001b[0m\u001b[0;34m,\u001b[0m \u001b[0mignore_missing_end\u001b[0m\u001b[0;34m=\u001b[0m\u001b[0;32mTrue\u001b[0m\u001b[0;34m)\u001b[0m\u001b[0;34m\u001b[0m\u001b[0;34m\u001b[0m\u001b[0m\n\u001b[0m",
      "\u001b[0;32m~/anaconda3/lib/python3.7/site-packages/astropy/io/fits/convenience.py\u001b[0m in \u001b[0;36mgetdata\u001b[0;34m(filename, header, lower, upper, view, *args, **kwargs)\u001b[0m\n\u001b[1;32m    187\u001b[0m     \u001b[0mmode\u001b[0m\u001b[0;34m,\u001b[0m \u001b[0mclosed\u001b[0m \u001b[0;34m=\u001b[0m \u001b[0m_get_file_mode\u001b[0m\u001b[0;34m(\u001b[0m\u001b[0mfilename\u001b[0m\u001b[0;34m)\u001b[0m\u001b[0;34m\u001b[0m\u001b[0;34m\u001b[0m\u001b[0m\n\u001b[1;32m    188\u001b[0m \u001b[0;34m\u001b[0m\u001b[0m\n\u001b[0;32m--> 189\u001b[0;31m     \u001b[0mhdulist\u001b[0m\u001b[0;34m,\u001b[0m \u001b[0mextidx\u001b[0m \u001b[0;34m=\u001b[0m \u001b[0m_getext\u001b[0m\u001b[0;34m(\u001b[0m\u001b[0mfilename\u001b[0m\u001b[0;34m,\u001b[0m \u001b[0mmode\u001b[0m\u001b[0;34m,\u001b[0m \u001b[0;34m*\u001b[0m\u001b[0margs\u001b[0m\u001b[0;34m,\u001b[0m \u001b[0;34m**\u001b[0m\u001b[0mkwargs\u001b[0m\u001b[0;34m)\u001b[0m\u001b[0;34m\u001b[0m\u001b[0;34m\u001b[0m\u001b[0m\n\u001b[0m\u001b[1;32m    190\u001b[0m     \u001b[0;32mtry\u001b[0m\u001b[0;34m:\u001b[0m\u001b[0;34m\u001b[0m\u001b[0;34m\u001b[0m\u001b[0m\n\u001b[1;32m    191\u001b[0m         \u001b[0mhdu\u001b[0m \u001b[0;34m=\u001b[0m \u001b[0mhdulist\u001b[0m\u001b[0;34m[\u001b[0m\u001b[0mextidx\u001b[0m\u001b[0;34m]\u001b[0m\u001b[0;34m\u001b[0m\u001b[0;34m\u001b[0m\u001b[0m\n",
      "\u001b[0;32m~/anaconda3/lib/python3.7/site-packages/astropy/io/fits/convenience.py\u001b[0m in \u001b[0;36m_getext\u001b[0;34m(filename, mode, ext, extname, extver, *args, **kwargs)\u001b[0m\n\u001b[1;32m   1047\u001b[0m         \u001b[0;32mraise\u001b[0m \u001b[0mTypeError\u001b[0m\u001b[0;34m(\u001b[0m\u001b[0;34m'extver alone cannot specify an extension.'\u001b[0m\u001b[0;34m)\u001b[0m\u001b[0;34m\u001b[0m\u001b[0;34m\u001b[0m\u001b[0m\n\u001b[1;32m   1048\u001b[0m \u001b[0;34m\u001b[0m\u001b[0m\n\u001b[0;32m-> 1049\u001b[0;31m     \u001b[0mhdulist\u001b[0m \u001b[0;34m=\u001b[0m \u001b[0mfitsopen\u001b[0m\u001b[0;34m(\u001b[0m\u001b[0mfilename\u001b[0m\u001b[0;34m,\u001b[0m \u001b[0mmode\u001b[0m\u001b[0;34m=\u001b[0m\u001b[0mmode\u001b[0m\u001b[0;34m,\u001b[0m \u001b[0;34m**\u001b[0m\u001b[0mkwargs\u001b[0m\u001b[0;34m)\u001b[0m\u001b[0;34m\u001b[0m\u001b[0;34m\u001b[0m\u001b[0m\n\u001b[0m\u001b[1;32m   1050\u001b[0m \u001b[0;34m\u001b[0m\u001b[0m\n\u001b[1;32m   1051\u001b[0m     \u001b[0;32mreturn\u001b[0m \u001b[0mhdulist\u001b[0m\u001b[0;34m,\u001b[0m \u001b[0mext\u001b[0m\u001b[0;34m\u001b[0m\u001b[0;34m\u001b[0m\u001b[0m\n",
      "\u001b[0;32m~/anaconda3/lib/python3.7/site-packages/astropy/io/fits/hdu/hdulist.py\u001b[0m in \u001b[0;36mfitsopen\u001b[0;34m(name, mode, memmap, save_backup, cache, lazy_load_hdus, **kwargs)\u001b[0m\n\u001b[1;32m    156\u001b[0m \u001b[0;34m\u001b[0m\u001b[0m\n\u001b[1;32m    157\u001b[0m     return HDUList.fromfile(name, mode, memmap, save_backup, cache,\n\u001b[0;32m--> 158\u001b[0;31m                             lazy_load_hdus, **kwargs)\n\u001b[0m\u001b[1;32m    159\u001b[0m \u001b[0;34m\u001b[0m\u001b[0m\n\u001b[1;32m    160\u001b[0m \u001b[0;34m\u001b[0m\u001b[0m\n",
      "\u001b[0;32m~/anaconda3/lib/python3.7/site-packages/astropy/io/fits/hdu/hdulist.py\u001b[0m in \u001b[0;36mfromfile\u001b[0;34m(cls, fileobj, mode, memmap, save_backup, cache, lazy_load_hdus, **kwargs)\u001b[0m\n\u001b[1;32m    395\u001b[0m         return cls._readfrom(fileobj=fileobj, mode=mode, memmap=memmap,\n\u001b[1;32m    396\u001b[0m                              \u001b[0msave_backup\u001b[0m\u001b[0;34m=\u001b[0m\u001b[0msave_backup\u001b[0m\u001b[0;34m,\u001b[0m \u001b[0mcache\u001b[0m\u001b[0;34m=\u001b[0m\u001b[0mcache\u001b[0m\u001b[0;34m,\u001b[0m\u001b[0;34m\u001b[0m\u001b[0;34m\u001b[0m\u001b[0m\n\u001b[0;32m--> 397\u001b[0;31m                              lazy_load_hdus=lazy_load_hdus, **kwargs)\n\u001b[0m\u001b[1;32m    398\u001b[0m \u001b[0;34m\u001b[0m\u001b[0m\n\u001b[1;32m    399\u001b[0m     \u001b[0;34m@\u001b[0m\u001b[0mclassmethod\u001b[0m\u001b[0;34m\u001b[0m\u001b[0;34m\u001b[0m\u001b[0m\n",
      "\u001b[0;32m~/anaconda3/lib/python3.7/site-packages/astropy/io/fits/hdu/hdulist.py\u001b[0m in \u001b[0;36m_readfrom\u001b[0;34m(cls, fileobj, data, mode, memmap, save_backup, cache, lazy_load_hdus, **kwargs)\u001b[0m\n\u001b[1;32m   1078\u001b[0m                 \u001b[0mhdulist\u001b[0m\u001b[0;34m.\u001b[0m\u001b[0m_file\u001b[0m\u001b[0;34m.\u001b[0m\u001b[0mclose\u001b[0m\u001b[0;34m(\u001b[0m\u001b[0;34m)\u001b[0m\u001b[0;34m\u001b[0m\u001b[0;34m\u001b[0m\u001b[0m\n\u001b[1;32m   1079\u001b[0m \u001b[0;34m\u001b[0m\u001b[0m\n\u001b[0;32m-> 1080\u001b[0;31m             \u001b[0;32mraise\u001b[0m \u001b[0mOSError\u001b[0m\u001b[0;34m(\u001b[0m\u001b[0;34m'Empty or corrupt FITS file'\u001b[0m\u001b[0;34m)\u001b[0m\u001b[0;34m\u001b[0m\u001b[0;34m\u001b[0m\u001b[0m\n\u001b[0m\u001b[1;32m   1081\u001b[0m \u001b[0;34m\u001b[0m\u001b[0m\n\u001b[1;32m   1082\u001b[0m         \u001b[0;32mif\u001b[0m \u001b[0;32mnot\u001b[0m \u001b[0mlazy_load_hdus\u001b[0m\u001b[0;34m:\u001b[0m\u001b[0;34m\u001b[0m\u001b[0;34m\u001b[0m\u001b[0m\n",
      "\u001b[0;31mOSError\u001b[0m: Empty or corrupt FITS file"
     ]
    }
   ],
   "source": [
    "fits.getdata(rosat_sample, lazy_load_hdus=False, ignore_missing_end=True)"
   ]
  },
  {
   "cell_type": "markdown",
   "metadata": {},
   "source": [
    "## Event Column Names"
   ]
  },
  {
   "cell_type": "code",
   "execution_count": 10,
   "metadata": {},
   "outputs": [
    {
     "output_type": "execute_result",
     "data": {
      "text/plain": "ColDefs(\n    name = 'RAWX'; format = 'I'\n    name = 'OFFSETX'; format = 'I'\n    name = 'OFFSETY'; format = 'I'\n    name = 'CCDNR'; format = 'B'\n)"
     },
     "metadata": {},
     "execution_count": 10
    }
   ],
   "source": [
    "evt_table = hdu_list[2]\n",
    "evt_table.columns"
   ]
  },
  {
   "cell_type": "markdown",
   "metadata": {},
   "source": [
    "# Swift\n",
    "## Event File Info"
   ]
  },
  {
   "cell_type": "code",
   "execution_count": 12,
   "metadata": {
    "tags": []
   },
   "outputs": [
    {
     "output_type": "stream",
     "name": "stdout",
     "text": "Filename: /Users/hunterholland/Documents/Research/Laidlaw/Data/Modified/B59/Swift/xrt/event/sw00037645002xpcw3po_cl.evt.gz\nNo.    Name      Ver    Type      Cards   Dimensions   Format\n  0  PRIMARY       1 PrimaryHDU     108   ()      \n  1  EVENTS        1 BinTableHDU    504   2006R x 11C   [1D, 1I, 1I, 1I, 1I, 1I, 1I, 1J, 1J, 1I, 16X]   \n  2  GTI           1 BinTableHDU    105   8R x 2C   [1D, 1D]   \n  3  BADPIX        1 BinTableHDU    125   751R x 6C   [1I, 1I, 1I, 1I, I, 16X]   \n  4  BIASDIFF      1 BinTableHDU    152   101R x 13C   [1D, 1I, 1I, 1I, 1I, 1I, 1I, 1J, 1J, 1J, 1J, 1J, 1J]   \n"
    }
   ],
   "source": [
    "hdu_list = fits.open(test)\n",
    "hdu_list.info()"
   ]
  },
  {
   "cell_type": "markdown",
   "metadata": {},
   "source": [
    "## Event Column Names"
   ]
  },
  {
   "cell_type": "code",
   "execution_count": 13,
   "metadata": {},
   "outputs": [
    {
     "output_type": "execute_result",
     "data": {
      "text/plain": "ColDefs(\n    name = 'TIME'; format = '1D'; unit = 's'\n    name = 'X'; format = '1I'; unit = 'pixel'; null = -1; coord_type = 'RA---TAN'; coord_unit = 'deg'; coord_ref_point = 500.5; coord_ref_value = 257.5291; coord_inc = -0.0006548089\n    name = 'Y'; format = '1I'; unit = 'pixel'; null = -1; coord_type = 'DEC--TAN'; coord_unit = 'deg'; coord_ref_point = 500.5; coord_ref_value = -27.23644; coord_inc = 0.0006548089\n    name = 'RAWX'; format = '1I'; unit = 'pixel'; coord_type = 'RAWX'; coord_ref_point = 300.5; coord_ref_value = 299.5; coord_inc = 1\n    name = 'RAWY'; format = '1I'; unit = 'pixel'; coord_type = 'RAWY'; coord_ref_point = 300.5; coord_ref_value = 299.5; coord_inc = 1\n    name = 'DETX'; format = '1I'; unit = 'pixel'; coord_type = 'DETX'; coord_unit = 'mm'; coord_ref_point = 300.5; coord_ref_value = 0.0; coord_inc = 0.04\n    name = 'DETY'; format = '1I'; unit = 'pixel'; coord_type = 'DETY'; coord_unit = 'mm'; coord_ref_point = 300.5; coord_ref_value = 0.0; coord_inc = 0.04\n    name = 'PHA'; format = '1J'; unit = 'chan'\n    name = 'PI'; format = '1J'; unit = 'chan'; null = -4095\n    name = 'GRADE'; format = '1I'\n    name = 'STATUS'; format = '16X'\n)"
     },
     "metadata": {},
     "execution_count": 13
    }
   ],
   "source": [
    "evt_table = hdu_list[1]\n",
    "evt_table.columns\n",
    "# max(evt_table.data[\"Y\"])"
   ]
  },
  {
   "cell_type": "code",
   "execution_count": null,
   "metadata": {},
   "outputs": [],
   "source": []
  }
 ],
 "metadata": {
  "language_info": {
   "codemirror_mode": {
    "name": "ipython",
    "version": 3
   },
   "file_extension": ".py",
   "mimetype": "text/x-python",
   "name": "python",
   "nbconvert_exporter": "python",
   "pygments_lexer": "ipython3",
   "version": "3.7.6-final"
  },
  "orig_nbformat": 2,
  "kernelspec": {
   "name": "python3",
   "display_name": "Python 3"
  }
 },
 "nbformat": 4,
 "nbformat_minor": 2
}